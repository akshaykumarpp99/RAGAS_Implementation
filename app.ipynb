{
 "cells": [
  {
   "cell_type": "code",
   "execution_count": 1,
   "id": "b05498cc",
   "metadata": {},
   "outputs": [
    {
     "data": {
      "text/plain": [
       "True"
      ]
     },
     "execution_count": 1,
     "metadata": {},
     "output_type": "execute_result"
    }
   ],
   "source": [
    "import os\n",
    "from dotenv import load_dotenv\n",
    "load_dotenv()"
   ]
  },
  {
   "cell_type": "code",
   "execution_count": 9,
   "id": "86c65f77",
   "metadata": {},
   "outputs": [],
   "source": [
    "from langchain.document_loaders import PyPDFLoader\n",
    "from langchain.text_splitter import RecursiveCharacterTextSplitter\n",
    "from langchain_openai import ChatOpenAI"
   ]
  },
  {
   "cell_type": "code",
   "execution_count": 16,
   "id": "9d75636d",
   "metadata": {},
   "outputs": [
    {
     "data": {
      "text/plain": [
       "Document(metadata={'producer': 'PDF Printer / www.bullzip.com / CP / Freeware Edition', 'creator': 'PyPDF', 'creationdate': '2017-01-04T21:40:05+05:30', 'moddate': '2017-01-04T21:40:05+05:30', 'title': \"Microsoft Word - 104 ISC - PM's Speech.doc\", 'author': 'Barkha', 'source': './PMSpeech.pdf', 'total_pages': 6, 'page': 0, 'page_label': '1'}, page_content=\"PM's Address at the Inauguration of the 104th Session of the Indian Science Congress, \\nTirupati \\nPMO India  Narendra Modi  Dr. Harsh Vardhan  Y.S. Chowdary  Ashutosh Sharma Iitk  \\nDepartment of Science and Technology, Government of India  \\nGovernor of Andhra Pradesh, Shri E. S. L. Narasimhan \\nChief Minister of Andhra Pradesh, Shri N. Chandrababu Naidu \\nUnion Minister for Science & Technology, and Earth Sciences, Dr. Harsh Vardhan \\nUnion Minister of State for Science & Technology, and Earth Sciences, Shri Y. S. Chowdary \\nGeneral President of the Indian Science Congress Association, Professor D. Narayana Rao \\nVice Chancellor of Sri Venkateswara University, Professor A. Damodaram \\nDistinguished Delegates \\nLadies and Gentlemen. \\nI am delighted to begin the New Year with distinguished scientists from home and abroad in \\nthe holy city of Tirupati. \\nI am happy to inaugurate this 104th session of The Indian Science Congress in the panoramic \\ncampus of Sri Venkateswara University. \\nAnd I appreciate the Indian Science Congress Association for choosing an appropriate theme \\n“Science & Technology for National Development” for this year’s session. \\nDistinguished Delegates, \\nThe nation will always be grateful to the scientists who have worked tirelessly to empower \\nour society by their vision, labour, and leadership. \\nIn November 2016, the country lost one such eminent scientist and institution builder, Dr. \\nM.G.K. Menon. I join you in paying tribute to him. \\nDistinguished Delegates, \\nThe speed and scale of changes we encounter today are unprecedented. \\nHow are we going to respond to these challenges that we do not even know could arise? It is \\na deep-rooted curiosity-driven scientific tradition which allows quick adaptation to new \\nrealities. \\nTomorrow’s experts will come from investments we make today in our people and \\ninfrastructure. My government is committed to supporting different streams of scientific \\nknowledge; ranging from fundamental science to applied science with emphasis on \\ninnovations.\")"
      ]
     },
     "execution_count": 16,
     "metadata": {},
     "output_type": "execute_result"
    }
   ],
   "source": [
    "file_path = \"./PMSpeech.pdf\"\n",
    "loader = PyPDFLoader(file_path)\n",
    "documents = loader.load()\n",
    "documents[0]"
   ]
  },
  {
   "cell_type": "code",
   "execution_count": 17,
   "id": "7b5b964a",
   "metadata": {},
   "outputs": [],
   "source": [
    "text_splitter = RecursiveCharacterTextSplitter(chunk_size=500, chunk_overlap=50)\n",
    "chunks = text_splitter.split_documents(documents)"
   ]
  },
  {
   "cell_type": "code",
   "execution_count": 18,
   "id": "08043849",
   "metadata": {},
   "outputs": [],
   "source": [
    "from langchain_openai import OpenAIEmbeddings\n",
    "embeddings = OpenAIEmbeddings()\n"
   ]
  },
  {
   "cell_type": "code",
   "execution_count": 19,
   "id": "46e4d4ba",
   "metadata": {},
   "outputs": [],
   "source": [
    "from langchain_community.vectorstores import FAISS\n",
    "vector = FAISS.from_documents(chunks, embeddings)"
   ]
  },
  {
   "cell_type": "code",
   "execution_count": 20,
   "id": "87ecbb3c",
   "metadata": {},
   "outputs": [],
   "source": [
    "retriever = vector.as_retriever(search_kwargs={\"k\": 1})"
   ]
  },
  {
   "cell_type": "code",
   "execution_count": 27,
   "id": "ef044c2f",
   "metadata": {},
   "outputs": [],
   "source": [
    "llm = ChatOpenAI()"
   ]
  },
  {
   "cell_type": "code",
   "execution_count": 22,
   "id": "216e023f",
   "metadata": {},
   "outputs": [],
   "source": [
    "template = \"\"\"Youe are an assistant for question-answering tasks.\n",
    "Use the following pices of context to answer the question.\n",
    "If you don't know the answer, Just say that you don't know.\n",
    "Use two sentences maximum and keep the answer concise.\n",
    "Question: {question}\n",
    "Context: {context}\n",
    "Answer:\n",
    "\"\"\""
   ]
  },
  {
   "cell_type": "code",
   "execution_count": 24,
   "id": "fe492bee",
   "metadata": {},
   "outputs": [],
   "source": [
    "from langchain.prompts import ChatPromptTemplate\n",
    "from langchain.schema.runnable import RunnablePassthrough\n",
    "from langchain.schema.output_parser import StrOutputParser"
   ]
  },
  {
   "cell_type": "code",
   "execution_count": 25,
   "id": "7a13aa59",
   "metadata": {},
   "outputs": [],
   "source": [
    "prompt = ChatPromptTemplate.from_template(template)"
   ]
  },
  {
   "cell_type": "code",
   "execution_count": 28,
   "id": "a7418481",
   "metadata": {},
   "outputs": [],
   "source": [
    "# Pipeline\n",
    "\n",
    "chain = (\n",
    "    {\"context\": retriever, \"question\": RunnablePassthrough()}\n",
    "    | prompt\n",
    "    | llm\n",
    "    | StrOutputParser() \n",
    ")"
   ]
  },
  {
   "cell_type": "code",
   "execution_count": 29,
   "id": "1174378d",
   "metadata": {},
   "outputs": [
    {
     "data": {
      "text/plain": [
       "'The Chief Minister of Andhra Pradesh is N. Chandrababu Naidu.'"
      ]
     },
     "execution_count": 29,
     "metadata": {},
     "output_type": "execute_result"
    }
   ],
   "source": [
    "chain.invoke(\"Who is the Chief Minister of Andra Pradesh?\")"
   ]
  },
  {
   "cell_type": "code",
   "execution_count": 32,
   "id": "a1f95774",
   "metadata": {},
   "outputs": [
    {
     "data": {
      "text/plain": [
       "\"The speech addressed key challenges and opportunities in sectors such as clean water, energy, food, environment, climate, security, and healthcare, emphasizing the need to leverage disruptive technologies for growth. The speaker also highlighted the importance of assessing and preparing for these challenges and opportunities for the nation's progress.\""
      ]
     },
     "execution_count": 32,
     "metadata": {},
     "output_type": "execute_result"
    }
   ],
   "source": [
    "chain.invoke(\"Summary of the speech.\")"
   ]
  },
  {
   "cell_type": "code",
   "execution_count": 31,
   "id": "ac9faabd",
   "metadata": {},
   "outputs": [
    {
     "data": {
      "text/plain": [
       "'The speech was arranged at the panoramic campus of Sri Venkateswara University in the holy city of Tirupati.'"
      ]
     },
     "execution_count": 31,
     "metadata": {},
     "output_type": "execute_result"
    }
   ],
   "source": [
    "chain.invoke(\"Venue of the place this speech arranged?\")"
   ]
  },
  {
   "cell_type": "code",
   "execution_count": 33,
   "id": "9334a822",
   "metadata": {},
   "outputs": [],
   "source": [
    "question = [\n",
    "    \"Who is the Chief Minister of Andra Pradesh?\",\n",
    "    \"Summary of the speech.\",\n",
    "    \"Venue of the place this speech arranged?\"\n",
    "]"
   ]
  },
  {
   "cell_type": "code",
   "execution_count": 41,
   "id": "352d5c7c",
   "metadata": {},
   "outputs": [],
   "source": [
    "ground_truth = [\n",
    "    \"Chief Minister of Andhra Pradesh, Shri N. Chandrababu Naidu\",\n",
    "    \"\"\"In the last two sessions of the science congress, I presented before you several key challenges\n",
    "and opportunities for the nation.\n",
    "Some of these important challenges are in the key sectors of clean water & energy, food,\n",
    "environment, climate, security, and healthcare.\n",
    "We equally need to keep an eye on the rise of disruptive technologies and be prepared to\n",
    "leverage them for growth. We need to clearly assess the challenges and opportunities for our\n",
    "technology readiness and competitiveness.\n",
    "I have been told that the Technology Vision 2035 document released in last year’s Science\n",
    "Congress, is now developing into a detailed roadmap for twelve key technology sectors.\n",
    "Further, NITI Aayog is evolving a holistic science and technology vision for the country.\n",
    "One important area that needs to be addressed is the rapid global rise of Cyber-Physical\n",
    "Systems. This has the potential to pose unprecedented challenges and stresses to our\n",
    "demographic dividend. But we can turn it into a huge opportunity by research, training and\n",
    "skilling in robotics, artificial intelligence, digital manufacturing, big data analysis, deep\n",
    "learning, quantum communication and Internet-of-Things.\n",
    "There is a need to develop and exploit these technologies in services and manufacturing\n",
    "sectors; in agriculture, water, energy & traffic management; health, environment,\n",
    "infrastructure and Geo Information Systems; security; financial systems and in combating\n",
    "crime.\n",
    "We need to develop an Inter-Ministerial National Mission in the Cyber-Physical Systems to\n",
    "secure our future by creation of basic R&D infrastructure, manpower and skills. \n",
    "\n",
    "Our best science and technology institutions should further strengthen their basic research in\n",
    "line with leading global standards. Translating this basic knowledge into innovations, startups and industry will help us achieve inclusive and sustainable growth.\n",
    "SCOPUS database indicates that India now ranks sixth in the world with respect to scientific\n",
    "publications, growing at a rate of about fourteen percent as against the world average growth\n",
    "rate of about four percent. I am sure that our scientists will further meet the challenges of\n",
    "enhanced quality of basic research, its technology translation and its societal connect.\n",
    "By 2030 India will be among the top three countries in science and technology and will be\n",
    "among the most attractive destinations for the best talent in the world. The wheels we set in\n",
    "motion today will achieve this goal. \"\"\",\n",
    "\"PM's Address at the Inauguration of the 104th Session of the Indian Science Congress, I am happy to inaugurate this 104th session of The Indian Science Congress in the panoramic campus of Sri Venkateswara University. \"\n",
    "]"
   ]
  },
  {
   "cell_type": "code",
   "execution_count": 35,
   "id": "58f0824a",
   "metadata": {},
   "outputs": [],
   "source": [
    "answer = []\n",
    "content = []"
   ]
  },
  {
   "cell_type": "code",
   "execution_count": 36,
   "id": "a5892823",
   "metadata": {},
   "outputs": [],
   "source": [
    "for query in question:\n",
    "    answer.append(chain.invoke(query))\n",
    "    content.append([docs.page_content for docs in retriever.invoke(query)])"
   ]
  },
  {
   "cell_type": "code",
   "execution_count": 42,
   "id": "31f6e822",
   "metadata": {},
   "outputs": [],
   "source": [
    "data = {\n",
    "    \"question\": question,\n",
    "    \"ground_truth\": ground_truth,\n",
    "    \"answer\": answer,\n",
    "    \"contexts\": content    \n",
    "}"
   ]
  },
  {
   "cell_type": "code",
   "execution_count": 46,
   "id": "bfca0a8c",
   "metadata": {},
   "outputs": [],
   "source": [
    "from datasets import Dataset\n",
    "dataset = Dataset.from_dict(data)"
   ]
  },
  {
   "cell_type": "code",
   "execution_count": 48,
   "id": "104f57ee",
   "metadata": {},
   "outputs": [
    {
     "data": {
      "text/plain": [
       "Dataset({\n",
       "    features: ['question', 'ground_truth', 'answer', 'contexts'],\n",
       "    num_rows: 3\n",
       "})"
      ]
     },
     "execution_count": 48,
     "metadata": {},
     "output_type": "execute_result"
    }
   ],
   "source": [
    "dataset"
   ]
  },
  {
   "cell_type": "code",
   "execution_count": 50,
   "id": "36d9bb10",
   "metadata": {},
   "outputs": [],
   "source": [
    "from ragas import evaluate\n",
    "from ragas.metrics import (\n",
    "    faithfulness,\n",
    "    answer_relevancy,\n",
    "    context_recall,\n",
    "    context_precision\n",
    ")"
   ]
  },
  {
   "cell_type": "code",
   "execution_count": 52,
   "id": "e169505c",
   "metadata": {},
   "outputs": [
    {
     "name": "stderr",
     "output_type": "stream",
     "text": [
      "Evaluating: 100%|██████████| 12/12 [00:10<00:00,  1.15it/s]\n"
     ]
    }
   ],
   "source": [
    "result = evaluate( dataset=dataset,\n",
    "        metrics = [\n",
    "            context_precision,\n",
    "            context_recall,\n",
    "            faithfulness,\n",
    "            answer_relevancy\n",
    "        ],\n",
    "        llm = llm,\n",
    "        embeddings = embeddings\n",
    "        )"
   ]
  },
  {
   "cell_type": "code",
   "execution_count": 53,
   "id": "7aa5665d",
   "metadata": {},
   "outputs": [
    {
     "data": {
      "text/plain": [
       "{'context_precision': 1.0000, 'context_recall': 0.9167, 'faithfulness': 0.8333, 'answer_relevancy': 0.9345}"
      ]
     },
     "execution_count": 53,
     "metadata": {},
     "output_type": "execute_result"
    }
   ],
   "source": [
    "result"
   ]
  },
  {
   "cell_type": "code",
   "execution_count": null,
   "id": "f48bbc06",
   "metadata": {},
   "outputs": [],
   "source": []
  }
 ],
 "metadata": {
  "kernelspec": {
   "display_name": "myenv",
   "language": "python",
   "name": "python3"
  },
  "language_info": {
   "codemirror_mode": {
    "name": "ipython",
    "version": 3
   },
   "file_extension": ".py",
   "mimetype": "text/x-python",
   "name": "python",
   "nbconvert_exporter": "python",
   "pygments_lexer": "ipython3",
   "version": "3.12.9"
  }
 },
 "nbformat": 4,
 "nbformat_minor": 5
}
